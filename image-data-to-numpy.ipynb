{
 "cells": [
  {
   "cell_type": "markdown",
   "metadata": {},
   "source": [
    "# Math Wizard"
   ]
  },
  {
   "cell_type": "markdown",
   "metadata": {},
   "source": [
    "## Math Symbols - Image data to Numpy"
   ]
  },
  {
   "cell_type": "markdown",
   "metadata": {},
   "source": [
    "### Import Libraries"
   ]
  },
  {
   "cell_type": "code",
   "execution_count": 1,
   "metadata": {},
   "outputs": [],
   "source": [
    "import os\n",
    "import json\n",
    "\n",
    "from PIL import Image\n",
    "from PIL import ImageOps\n",
    "import numpy as np\n",
    "from sklearn.utils import shuffle\n",
    "import matplotlib.pyplot as plt\n",
    "from sklearn.preprocessing import LabelEncoder\n",
    "\n",
    "%matplotlib inline"
   ]
  },
  {
   "cell_type": "markdown",
   "metadata": {},
   "source": [
    "### Check if Numpy dataset available\n",
    "- Load if already available\n",
    "- Convert Image to Numpy and save to compressed pkl file if not available"
   ]
  },
  {
   "cell_type": "code",
   "execution_count": 2,
   "metadata": {},
   "outputs": [],
   "source": [
    "BASE_DIR = 'dataset/math-symbols-np'\n",
    "dataset_path = 'dataset/math-symbols'\n",
    "dataset_np_file = os.path.join(BASE_DIR, 'math_symbols')\n",
    "dataset_np_file_saved = dataset_np_file + '.npz'\n",
    "dataset_index_label_map = os.path.join(BASE_DIR, 'index_label_map.json')"
   ]
  },
  {
   "cell_type": "code",
   "execution_count": 3,
   "metadata": {},
   "outputs": [],
   "source": [
    "if not os.path.exists(BASE_DIR):\n",
    "    os.makedirs(BASE_DIR)"
   ]
  },
  {
   "cell_type": "code",
   "execution_count": 4,
   "metadata": {},
   "outputs": [],
   "source": [
    "def is_dataset_np_available():\n",
    "    if os.path.isfile(dataset_np_file_saved):\n",
    "        return True\n",
    "    return False"
   ]
  },
  {
   "cell_type": "code",
   "execution_count": 5,
   "metadata": {},
   "outputs": [],
   "source": [
    "def get_label_index_map():\n",
    "    label_index_map = {}\n",
    "    index_label_map = {}\n",
    "    index = 0\n",
    "    for dir_name in os.listdir(dataset_path):\n",
    "        label_index_map[dir_name] = index\n",
    "        index_label_map[index] = dir_name\n",
    "        index += 1\n",
    "    return label_index_map, index_label_map"
   ]
  },
  {
   "cell_type": "code",
   "execution_count": 6,
   "metadata": {},
   "outputs": [],
   "source": [
    "label_index_map, index_label_map = get_label_index_map()"
   ]
  },
  {
   "cell_type": "code",
   "execution_count": 7,
   "metadata": {},
   "outputs": [],
   "source": [
    "def save_index_label_map():\n",
    "    with open(dataset_index_label_map, 'w') as fp:\n",
    "        json.dump(index_label_map, fp)"
   ]
  },
  {
   "cell_type": "code",
   "execution_count": 8,
   "metadata": {},
   "outputs": [],
   "source": [
    "save_index_label_map()"
   ]
  },
  {
   "cell_type": "code",
   "execution_count": 9,
   "metadata": {},
   "outputs": [],
   "source": [
    "def convert_image_to_np_dataset():\n",
    "    symbols_dir_list = os.listdir(dataset_path)\n",
    "\n",
    "    math_symbols_images = []\n",
    "    math_symbols_lables = []\n",
    "    new_image_size = 28, 28\n",
    "    \n",
    "    for symbol_dir_name in symbols_dir_list:\n",
    "        symbol_dir_path = os.path.join(dataset_path, symbol_dir_name)\n",
    "        symbol_dataset_list = os.listdir(symbol_dir_path)\n",
    "        for symbol_img_name in symbol_dataset_list:\n",
    "            symbol_img_path = os.path.join(symbol_dir_path, symbol_img_name)\n",
    "            symbol_img = Image.open(symbol_img_path)\n",
    "            symbol_img_inv = ImageOps.invert(symbol_img)\n",
    "            symbol_img_inv.thumbnail(new_image_size, Image.ANTIALIAS)\n",
    "            symbol_img_np = np.array(symbol_img_inv)\n",
    "            math_symbols_images.append(symbol_img_np)\n",
    "            math_symbols_lables.append(symbol_dir_name)\n",
    "\n",
    "    math_symbols_images_np = np.array(math_symbols_images)\n",
    "    \n",
    "    math_symbols_lables_le = [label_index_map[letter] for letter in math_symbols_lables]\n",
    "    math_symbols_labels_np = np.array(math_symbols_lables_le)\n",
    "\n",
    "    math_symbols_images_np.shape\n",
    "    math_symbols_labels_np.shape\n",
    "\n",
    "    plt.figure(figsize=(4, 4))\n",
    "    plt.imshow(math_symbols_images_np[0], cmap=plt.cm.gray)\n",
    "    plt.show()\n",
    "\n",
    "    images_shuflled, label_shuffled = shuffle(math_symbols_images_np, math_symbols_labels_np, random_state=42)\n",
    "\n",
    "    plt.figure(figsize=(4, 4))\n",
    "    plt.imshow(images_shuflled[3200], cmap=plt.cm.gray)\n",
    "    plt.show()\n",
    "\n",
    "    label_shuffled[3200]\n",
    "    \n",
    "    np.savez_compressed(dataset_np_file, image_symbols=images_shuflled, image_labels=label_shuffled)"
   ]
  },
  {
   "cell_type": "code",
   "execution_count": 10,
   "metadata": {},
   "outputs": [],
   "source": [
    "def load_np_dataset():\n",
    "    print(dataset_np_file_saved)\n",
    "    math_symbols_np = np.load(dataset_np_file_saved)\n",
    "    math_symbols_img = math_symbols_np['image_symbols']\n",
    "    math_symbols_labels = math_symbols_np['image_labels']\n",
    "\n",
    "    plt.figure(figsize=(4, 4))\n",
    "    plt.imshow(math_symbols_img[3200], cmap=plt.cm.gray)\n",
    "    plt.show()\n",
    "\n",
    "    print('Size', math_symbols_img[3200].shape)\n",
    "    print('Label', math_symbols_labels[3200])"
   ]
  },
  {
   "cell_type": "code",
   "execution_count": 11,
   "metadata": {
    "scrolled": true
   },
   "outputs": [
    {
     "data": {
      "image/png": "[encoded data removed]",
      "text/plain": [
       "<Figure size 288x288 with 1 Axes>"
      ]
     },
     "metadata": {
      "needs_background": "light"
     },
     "output_type": "display_data"
    },
    {
     "data": {
      "image/png": "[encoded data removed]",
      "text/plain": [
       "<Figure size 288x288 with 1 Axes>"
      ]
     },
     "metadata": {
      "needs_background": "light"
     },
     "output_type": "display_data"
    }
   ],
   "source": [
    "if not is_dataset_np_available():\n",
    "    convert_image_to_np_dataset()"
   ]
  },
  {
   "cell_type": "code",
   "execution_count": 12,
   "metadata": {},
   "outputs": [
    {
     "name": "stdout",
     "output_type": "stream",
     "text": [
      "dataset/math-symbols-np\\math_symbols.npz\n"
     ]
    },
    {
     "data": {
      "image/png": "[encoded data removed]",
      "text/plain": [
       "<Figure size 288x288 with 1 Axes>"
      ]
     },
     "metadata": {
      "needs_background": "light"
     },
     "output_type": "display_data"
    },
    {
     "name": "stdout",
     "output_type": "stream",
     "text": [
      "Size (28, 28)\n",
      "Label 22\n"
     ]
    }
   ],
   "source": [
    "load_np_dataset()"
   ]
  }
 ],
 "metadata": {
  "kernelspec": {
   "display_name": "Python 3",
   "language": "python",
   "name": "python3"
  },
  "language_info": {
   "codemirror_mode": {
    "name": "ipython",
    "version": 3
   },
   "file_extension": ".py",
   "mimetype": "text/x-python",
   "name": "python",
   "nbconvert_exporter": "python",
   "pygments_lexer": "ipython3",
   "version": "3.7.5"
  },
  "varInspector": {
   "cols": {
    "lenName": 16,
    "lenType": 16,
    "lenVar": 40
   },
   "kernels_config": {
    "python": {
     "delete_cmd_postfix": "",
     "delete_cmd_prefix": "del ",
     "library": "var_list.py",
     "varRefreshCmd": "print(var_dic_list())"
    },
    "r": {
     "delete_cmd_postfix": ") ",
     "delete_cmd_prefix": "rm(",
     "library": "var_list.r",
     "varRefreshCmd": "cat(var_dic_list()) "
    }
   },
   "types_to_exclude": [
    "module",
    "function",
    "builtin_function_or_method",
    "instance",
    "_Feature"
   ],
   "window_display": false
  }
 },
 "nbformat": 4,
 "nbformat_minor": 2
}
